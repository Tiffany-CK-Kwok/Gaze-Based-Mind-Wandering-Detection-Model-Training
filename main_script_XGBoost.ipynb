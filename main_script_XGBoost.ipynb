{
 "cells": [
  {
   "cell_type": "markdown",
   "metadata": {},
   "source": [
    "# Gaze-based mind wandering detection model training\n",
    "\n",
    "### Data Location\n",
    "Data was prepared for 5 iterations of 3-fold cross-validation. Data should located in the './Data' folder. The filename systemically follows the naming pattern (*training/testing*)\\_(*iteration index*)\\_(*fold index*).\n",
    "\n",
    "In each fold, nine randomly selected participants were left out so that the data from 18 participants were used for training and \n",
    "the remaining data for testing. We used a leave-9-participants-out cross-validation because some of the participants had  unbalanced class distribution "
   ]
  },
  {
   "cell_type": "markdown",
   "metadata": {},
   "source": [
    "## Notebook setup"
   ]
  },
  {
   "cell_type": "code",
   "execution_count": 1,
   "metadata": {
    "_cell_guid": "b1076dfc-b9ad-4769-8c92-a6c4dae69d19",
    "_uuid": "8f2839f25d086af736a60e9eeb907d3b93b6e0e5"
   },
   "outputs": [],
   "source": [
    "# Basic import\n",
    "import numpy as np\n",
    "import pandas as pd\n",
    "import xgboost as xgb\n",
    "\n",
    "from scipy.io import arff\n",
    "from sklearn.metrics import accuracy_score\n",
    "from sklearn.impute import SimpleImputer\n",
    "from sklearn.metrics import classification_report, confusion_matrix\n",
    "from sklearn.metrics import roc_auc_score, precision_recall_fscore_support, f1_score\n",
    "from sklearn import preprocessing"
   ]
  },
  {
   "cell_type": "code",
   "execution_count": 3,
   "metadata": {},
   "outputs": [],
   "source": [
    "class ResultSummary:\n",
    "    sumAOC = 0\n",
    "    sumF1 = 0\n",
    "    sumFP = 0\n",
    "    sumPrecision = 0\n",
    "    sumRecall = 0"
   ]
  },
  {
   "cell_type": "markdown",
   "metadata": {},
   "source": [
    "## 1. Model Training and Testing\n",
    "\n",
    "### 1.1 XGBoost Training and Testing"
   ]
  },
  {
   "cell_type": "code",
   "execution_count": 5,
   "metadata": {},
   "outputs": [],
   "source": [
    "def RunXGBoost(condition, iteration, fold, X_train, y_train, X_test, y_test, xgBoostSummary):\n",
    "    le = preprocessing.LabelEncoder()\n",
    "    le.fit(y_train)\n",
    "    y_train = le.transform(y_train)\n",
    "\n",
    "    le.fit(y_test)\n",
    "    y_test = le.transform(y_test)\n",
    "\n",
    "    dtrain = xgb.DMatrix(data=X_train[X_train.columns], label=y_train)\n",
    "    dtest = xgb.DMatrix(data=X_test[X_test.columns])\n",
    "\n",
    "    params = {\n",
    "        'learning_rate':0.1,\n",
    "        'max_depth':10,\n",
    "        'objective': 'multi:softmax', \n",
    "        'num_class': 2\n",
    "    }\n",
    "\n",
    "    # Init classifier\n",
    "    bst = xgb.train(params, dtrain)\n",
    "\n",
    "    pred = bst.predict(dtest)\n",
    "\n",
    "    # Calculate Results\n",
    "    TN, FP, FN, TP = confusion_matrix(y_test,pred).ravel()\n",
    "\n",
    "    # Sensitivity, hit rate, recall, or true positive rate\n",
    "    TPR = TP/(TP+FN)\n",
    "    # Fall out or false positive rate\n",
    "    FPR = FP/(FP+TN)\n",
    "\n",
    "    # Overall accuracy\n",
    "    ACC = (TP+TN)/(TP+FP+FN+TN)\n",
    "    countCorrect = (TP+TN)\n",
    "\n",
    "    AOC = roc_auc_score(y_test,pred)\n",
    "    Precision_MW, Recall_MW, F1_MW,support = precision_recall_fscore_support(y_test, pred, average='binary')\n",
    "    F1 = f1_score(y_test, pred, average='weighted')\n",
    "\n",
    "    xgBoostSummary.sumAOC += AOC\n",
    "    xgBoostSummary.sumF1 += F1\n",
    "    xgBoostSummary.sumFP += FPR\n",
    "    xgBoostSummary.sumPrecision += Precision_MW\n",
    "    xgBoostSummary.sumRecall += Recall_MW\n",
    "    \n",
    "    output = \"Condition: \" + condition + \" Iteration: \" + str(iteration) + \" fold: \"+ str(fold) + \" AOC: \"+str(round(AOC,4))+\" F1: \" +str(round(F1,4))+\" FP: \"+str(round(FPR,4))+\" Pression: \"+str(round(Precision_MW,4))+\" Recall: \"+str(round(Recall_MW, 4))\n",
    "    print(output)\n",
    "\n",
    "    return"
   ]
  },
  {
   "cell_type": "code",
   "execution_count": 7,
   "metadata": {},
   "outputs": [],
   "source": [
    "#XGBoost\n",
    "conditions = ['With_Vergence','Without_Vergence']\n",
    "for condition in conditions:\n",
    "    xgBoostSummary = ResultSummary()\n",
    "    \n",
    "    for i in range(5):\n",
    "        for j in range(3):\n",
    "            testdata = arff.loadarff('./Data/'+condition+'/testing_'+str(i)+'_'+str(j)+'.arff')\n",
    "            test_df = pd.DataFrame(testdata[0])\n",
    "            X_test = test_df[test_df.columns.difference(['Mean_Centroid_Dist_of_Gazes','SD_Centroid_Dist_of_Gazes','GT'])]\n",
    "            y_test = test_df['GT'].str.decode('utf-8') \n",
    "    \n",
    "            traindata = arff.loadarff('./Data/'+condition+'/training_'+str(i)+'_'+str(j)+'.arff')\n",
    "            train_df = pd.DataFrame(traindata[0])\n",
    "            X_train = train_df[train_df.columns.difference(['Mean_Centroid_Dist_of_Gazes','SD_Centroid_Dist_of_Gazes','GT'])]\n",
    "            y_train = train_df['GT'].str.decode('utf-8')\n",
    "    \n",
    "            RunXGBoost(condition, i, j, X_train, y_train, X_test, y_test, xgBoostSummary)\n",
    "            \n",
    "    output = \"\\nSummary for condition: \" + condition + \" AOC: \"+str(round(xgBoostSummary.sumAOC/15,4))+\" F1: \" +str(round(xgBoostSummary.sumF1/15,4))+\" FP: \"+str(round(xgBoostSummary.sumFP/15,4))+\" Pression: \"+str(round(xgBoostSummary.sumPrecision/15,4))+\" Recall: \"+str(round(xgBoostSummary.sumRecall/15, 4))\n",
    "    print(output)\n",
    "    print(\"\\n----------------------------\\n\")"
   ]
  }
 ],
 "metadata": {
  "kaggle": {
   "accelerator": "none",
   "dataSources": [
    {
     "datasetId": 2538166,
     "sourceId": 4310842,
     "sourceType": "datasetVersion"
    },
    {
     "datasetId": 4070790,
     "sourceId": 7069152,
     "sourceType": "datasetVersion"
    },
    {
     "datasetId": 3927954,
     "sourceId": 7069243,
     "sourceType": "datasetVersion"
    },
    {
     "datasetId": 4101557,
     "sourceId": 7112859,
     "sourceType": "datasetVersion"
    },
    {
     "datasetId": 4101904,
     "sourceId": 7113495,
     "sourceType": "datasetVersion"
    }
   ],
   "dockerImageVersionId": 30260,
   "isGpuEnabled": false,
   "isInternetEnabled": false,
   "language": "python",
   "sourceType": "notebook"
  },
  "kernelspec": {
   "display_name": "Python 3 (ipykernel)",
   "language": "python",
   "name": "python3"
  },
  "language_info": {
   "codemirror_mode": {
    "name": "ipython",
    "version": 3
   },
   "file_extension": ".py",
   "mimetype": "text/x-python",
   "name": "python",
   "nbconvert_exporter": "python",
   "pygments_lexer": "ipython3",
   "version": "3.12.4"
  }
 },
 "nbformat": 4,
 "nbformat_minor": 4
}
